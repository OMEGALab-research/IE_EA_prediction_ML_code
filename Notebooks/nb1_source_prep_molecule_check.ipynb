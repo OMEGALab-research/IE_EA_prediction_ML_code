{
 "cells": [
  {
   "cell_type": "code",
   "execution_count": 1,
   "id": "introductory-sleep",
   "metadata": {},
   "outputs": [],
   "source": [
    "import pandas as pd\n",
    "import numpy as np\n",
    "\n",
    "from rdkit.Chem import MolFromSmiles, MolToSmiles, Descriptors\n",
    "from rdkit.ML.Descriptors import MoleculeDescriptors"
   ]
  },
  {
   "cell_type": "markdown",
   "id": "413228a6",
   "metadata": {},
   "source": [
    "## Important\n",
    "\n",
    "If you want only to predict the IE and EA of new molecules with the current models, you can just go to nb10_prediction_of_new_molecules.ipynb"
   ]
  },
  {
   "attachments": {},
   "cell_type": "markdown",
   "id": "7351a9b6",
   "metadata": {},
   "source": [
    "## Canonical smiles\n",
    "\n",
    "Two molecules might have different SMILES encodings,"
   ]
  },
  {
   "cell_type": "code",
   "execution_count": null,
   "id": "b2a04749",
   "metadata": {},
   "outputs": [],
   "source": [
    "smi1 = 'C=CCC'\n",
    "mol1 = MolFromSmiles(smi1)\n",
    "mol1"
   ]
  },
  {
   "cell_type": "code",
   "execution_count": null,
   "id": "696a4203",
   "metadata": {},
   "outputs": [],
   "source": [
    "smi2 = 'CCC=C'\n",
    "mol2 = MolFromSmiles(smi2)\n",
    "mol2"
   ]
  },
  {
   "attachments": {},
   "cell_type": "markdown",
   "id": "d70cf488",
   "metadata": {},
   "source": [
    "but still be the same chemically. In other words their descriptors are the same:"
   ]
  },
  {
   "cell_type": "code",
   "execution_count": 4,
   "id": "f0281a95",
   "metadata": {},
   "outputs": [],
   "source": [
    "descriptor_names = [x[0] for x in Descriptors._descList]\n",
    "calc = MoleculeDescriptors.MolecularDescriptorCalculator(descriptor_names)"
   ]
  },
  {
   "cell_type": "code",
   "execution_count": 5,
   "id": "dd00e9ec",
   "metadata": {},
   "outputs": [],
   "source": [
    "features1 = calc.CalcDescriptors(mol1)\n",
    "features2 = calc.CalcDescriptors(mol2)"
   ]
  },
  {
   "cell_type": "code",
   "execution_count": null,
   "id": "7b913e5b",
   "metadata": {},
   "outputs": [],
   "source": [
    "np.allclose(features1, features2)"
   ]
  },
  {
   "attachments": {},
   "cell_type": "markdown",
   "id": "5614d856",
   "metadata": {},
   "source": [
    "If one of these molecules is in the training set and the other in the test set, this will cause train-test leakage. Therefore we will convert all SMILES to their canonical versions and check for duplicates. The way to do this is to convert\n",
    "\n",
    "**smiles->mol->smiles**\n",
    "\n",
    "which will return canonical smiles."
   ]
  },
  {
   "cell_type": "code",
   "execution_count": null,
   "id": "732468fa",
   "metadata": {},
   "outputs": [],
   "source": [
    "smi1 == smi2"
   ]
  },
  {
   "cell_type": "code",
   "execution_count": null,
   "id": "5201fc73",
   "metadata": {},
   "outputs": [],
   "source": [
    "smi1_canonical = MolToSmiles(MolFromSmiles(smi1))\n",
    "smi2_canonical = MolToSmiles(MolFromSmiles(smi2))\n",
    "print(smi1_canonical, smi2_canonical)\n",
    "smi1_canonical == smi2_canonical"
   ]
  },
  {
   "attachments": {},
   "cell_type": "markdown",
   "id": "d2e79fe1",
   "metadata": {},
   "source": [
    "## Standardization\n",
    "\n",
    "https://molvs.readthedocs.io/en/latest/guide/standardize.html\n",
    "\n",
    "Not all SMILES are in their standard form."
   ]
  },
  {
   "cell_type": "code",
   "execution_count": null,
   "id": "11652f4b",
   "metadata": {},
   "outputs": [],
   "source": [
    "non_standard_smi = 'C[n+]1c([N-](C))cccc1'\n",
    "non_standard_smi"
   ]
  },
  {
   "cell_type": "code",
   "execution_count": null,
   "id": "e4add31e",
   "metadata": {},
   "outputs": [],
   "source": [
    "from molvs import Standardizer\n",
    "s = Standardizer()\n",
    "\n",
    "non_standard_mol = MolFromSmiles(non_standard_smi)\n",
    "standard_mol = s.standardize(non_standard_mol)\n",
    "standard_smi = MolToSmiles(standard_mol)\n",
    "standard_smi"
   ]
  },
  {
   "attachments": {},
   "cell_type": "markdown",
   "id": "deaed366",
   "metadata": {},
   "source": [
    "Note that this is different than canonical smiles. If a molecule is non-standard, after standardization its SMILES as well as its chemical properties will be different."
   ]
  },
  {
   "cell_type": "code",
   "execution_count": null,
   "id": "e3a6defb",
   "metadata": {},
   "outputs": [],
   "source": [
    "features_non_standard = calc.CalcDescriptors(non_standard_mol)\n",
    "features_standard = calc.CalcDescriptors(standard_mol)\n",
    "np.allclose(features_non_standard, features_standard)"
   ]
  },
  {
   "attachments": {},
   "cell_type": "markdown",
   "id": "5f55a798",
   "metadata": {},
   "source": [
    "If a molecule is already in its standard form, standardization will simply return its canonical form:"
   ]
  },
  {
   "cell_type": "code",
   "execution_count": null,
   "id": "4f69e946",
   "metadata": {},
   "outputs": [],
   "source": [
    "mol = MolFromSmiles('CCC=C')\n",
    "smol = s.standardize(mol)\n",
    "MolToSmiles(smol)"
   ]
  },
  {
   "attachments": {},
   "cell_type": "markdown",
   "id": "020b1629",
   "metadata": {},
   "source": [
    "We can check if we have any non-standard SMILES by comparing its standard smiles to its canonical smiles. For standard smiles these will be equal, for non-standard smiles these will be different."
   ]
  },
  {
   "cell_type": "code",
   "execution_count": null,
   "id": "3275728d",
   "metadata": {},
   "outputs": [],
   "source": [
    "example_1 = 'C[n+]1c([N-](C))cccc1'\n",
    "mol = MolFromSmiles(example_1)\n",
    "\n",
    "# standard smiles\n",
    "smol = s.standardize(mol)\n",
    "s_smi = MolToSmiles(smol)\n",
    "\n",
    "# canonical smiles\n",
    "c_smi = MolToSmiles(mol)\n",
    "\n",
    "if s_smi == c_smi:\n",
    "    print('Standard')\n",
    "else:\n",
    "    print('Non standard')"
   ]
  },
  {
   "cell_type": "code",
   "execution_count": null,
   "id": "2c6b4933",
   "metadata": {},
   "outputs": [],
   "source": [
    "example_2 = 'CCC=C'\n",
    "mol = MolFromSmiles(example_2)\n",
    "\n",
    "# standard smiles\n",
    "smol = s.standardize(mol)\n",
    "s_smi = MolToSmiles(smol)\n",
    "\n",
    "# canonical smiles\n",
    "c_smi = MolToSmiles(mol)\n",
    "\n",
    "if s_smi == c_smi:\n",
    "    print('Standard')\n",
    "else:\n",
    "    print('Non standard')"
   ]
  },
  {
   "attachments": {},
   "cell_type": "markdown",
   "id": "1ce068c7",
   "metadata": {},
   "source": [
    "## Validation\n",
    "\n",
    "Some SMILES are not even valid. We can detect these by checking what is returned from the `MolFromSmiles` method."
   ]
  },
  {
   "cell_type": "code",
   "execution_count": null,
   "id": "47ff32fd",
   "metadata": {},
   "outputs": [],
   "source": [
    "non_valid_smi = '[SiH2]1cc2ccc3ccc4-c5-nccc-c5n-c4c3c2c1'\n",
    "mol = MolFromSmiles(non_valid_smi)\n",
    "print(mol)"
   ]
  },
  {
   "cell_type": "code",
   "execution_count": null,
   "id": "2324f871",
   "metadata": {},
   "outputs": [],
   "source": [
    "# Alternative\n",
    "from molvs import validate_smiles\n",
    "validate_smiles(non_valid_smi)"
   ]
  },
  {
   "attachments": {},
   "cell_type": "markdown",
   "id": "8d15a13b",
   "metadata": {},
   "source": [
    "## Molecule check\n",
    "\n",
    "Let's apply the principals explained above to our dataset.\n",
    "\n",
    "1. Find non-valid SMILES\n",
    "2. Find non-standard SMILES\n",
    "3. Remove non-valid and non-standard SMILES\n",
    "4. Convert all SMILES to their canonical versions\n",
    "5. Remove duplicate SMILES"
   ]
  },
  {
   "cell_type": "code",
   "execution_count": null,
   "id": "71a9c26a",
   "metadata": {},
   "outputs": [],
   "source": [
    "source_df_1 = pd.read_csv(filepath_or_buffer='source_data/source_dataset_1.csv', sep=';')\n",
    "source_df_1 = source_df_1.drop(source_df_1.columns[1:-2], axis=1)\n",
    "source_df_1 = source_df_1.rename(columns={'smiles':'Smiles'})\n",
    "source_df_1"
   ]
  },
  {
   "cell_type": "code",
   "execution_count": null,
   "id": "6f89b8b2",
   "metadata": {},
   "outputs": [],
   "source": [
    "source_df_2 = pd.read_csv(filepath_or_buffer='source_data/source_dataset_2.csv', sep=',')\n",
    "source_df_2"
   ]
  },
  {
   "cell_type": "code",
   "execution_count": null,
   "id": "d5bfe2b0",
   "metadata": {},
   "outputs": [],
   "source": [
    "source_df = pd.concat([source_df_1, source_df_2], ignore_index=True)\n",
    "source_df"
   ]
  },
  {
   "cell_type": "code",
   "execution_count": 20,
   "id": "e32838ce",
   "metadata": {},
   "outputs": [],
   "source": [
    "smiles = list(source_df['Smiles'])\n",
    "del source_df_1\n",
    "del source_df_2"
   ]
  },
  {
   "cell_type": "code",
   "execution_count": 21,
   "id": "f932af47",
   "metadata": {},
   "outputs": [],
   "source": [
    "from molvs import Standardizer\n",
    "s = Standardizer()"
   ]
  },
  {
   "cell_type": "code",
   "execution_count": 22,
   "id": "775364f2",
   "metadata": {},
   "outputs": [],
   "source": [
    "def molecule_checker(smiles):\n",
    "    non_valid_smiles = []\n",
    "    non_standard_smiles = []\n",
    "    for i, smi in enumerate(smiles):\n",
    "        mol = MolFromSmiles(smi)\n",
    "        if mol is None:\n",
    "            non_valid_smiles.append(i)\n",
    "        else:\n",
    "            s_smiles = MolToSmiles(s.standardize(mol))\n",
    "            c_smiles = MolToSmiles(mol)\n",
    "            if s_smiles != c_smiles:\n",
    "                non_standard_smiles.append(i)\n",
    "\n",
    "    return non_valid_smiles, non_standard_smiles"
   ]
  },
  {
   "cell_type": "code",
   "execution_count": null,
   "id": "231a99f5",
   "metadata": {},
   "outputs": [],
   "source": [
    "# It took 40 minutes\n",
    "non_valid_smiles, non_standard_smiles = molecule_checker(smiles)"
   ]
  },
  {
   "cell_type": "code",
   "execution_count": null,
   "id": "ecbd9bed",
   "metadata": {},
   "outputs": [],
   "source": [
    "print(f'There are {len(non_valid_smiles)} non valid smiles.')\n",
    "print(f'There are {len(non_standard_smiles)} non standard smiles.')"
   ]
  },
  {
   "cell_type": "code",
   "execution_count": 25,
   "id": "747b0d6c",
   "metadata": {},
   "outputs": [],
   "source": [
    "import pickle\n",
    "with open('outputs/non_valid_smiles.pkl', 'wb') as f:\n",
    "    pickle.dump(non_valid_smiles, f)"
   ]
  },
  {
   "cell_type": "code",
   "execution_count": 26,
   "id": "7d906538",
   "metadata": {},
   "outputs": [],
   "source": [
    "del smiles"
   ]
  },
  {
   "cell_type": "code",
   "execution_count": null,
   "id": "3c97fbcc",
   "metadata": {},
   "outputs": [],
   "source": [
    "source_df = source_df.drop(non_valid_smiles)\n",
    "source_df"
   ]
  },
  {
   "cell_type": "code",
   "execution_count": 28,
   "id": "ced8065a",
   "metadata": {},
   "outputs": [],
   "source": [
    "# Convert all SMILES to canonical\n",
    "# It took 7 minutes 11 seconds\n",
    "source_df['Smiles'] = source_df['Smiles'].apply(lambda row: MolToSmiles(MolFromSmiles(row)))"
   ]
  },
  {
   "cell_type": "code",
   "execution_count": null,
   "id": "a2b64cac",
   "metadata": {},
   "outputs": [],
   "source": [
    "# Drop duplicates\n",
    "source_df = source_df.drop_duplicates(subset=['Smiles'])\n",
    "source_df"
   ]
  },
  {
   "cell_type": "code",
   "execution_count": 30,
   "id": "1a0e9e69",
   "metadata": {},
   "outputs": [],
   "source": [
    "source_df.to_csv('outputs/processed_source_dataset.csv', sep=',', index=False)"
   ]
  },
  {
   "cell_type": "code",
   "execution_count": 31,
   "id": "19169f22",
   "metadata": {},
   "outputs": [],
   "source": [
    "del source_df"
   ]
  },
  {
   "attachments": {},
   "cell_type": "markdown",
   "id": "b4560e24",
   "metadata": {},
   "source": [
    "The first raw dataset contained 233 molecules and the second contained 2,310,850 molecules. These were combined into one raw dataset. 9821 non-valid and 0 non-standard SMILES were detected and removed which resulted in 2,301,262 molecules. These were converted to canonical SMILES and 28,240 duplicates were detected and removed. Processed dataset contains 2,273,022 valid, standard and unique molecules. Note that all non-valid and duplicate molecules were detected in the second raw dataset."
   ]
  },
  {
   "cell_type": "code",
   "execution_count": null,
   "id": "099a4040",
   "metadata": {},
   "outputs": [],
   "source": []
  }
 ],
 "metadata": {
  "kernelspec": {
   "display_name": "Python 3 (ipykernel)",
   "language": "python",
   "name": "python3"
  },
  "language_info": {
   "codemirror_mode": {
    "name": "ipython",
    "version": 3
   },
   "file_extension": ".py",
   "mimetype": "text/x-python",
   "name": "python",
   "nbconvert_exporter": "python",
   "pygments_lexer": "ipython3",
   "version": "3.9.18"
  }
 },
 "nbformat": 4,
 "nbformat_minor": 5
}
