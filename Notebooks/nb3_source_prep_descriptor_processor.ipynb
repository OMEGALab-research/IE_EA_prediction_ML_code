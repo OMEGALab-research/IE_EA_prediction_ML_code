{
 "cells": [
  {
   "cell_type": "code",
   "execution_count": 1,
   "id": "burning-tenant",
   "metadata": {},
   "outputs": [],
   "source": [
    "import numpy as np\n",
    "import matplotlib.pyplot as plt\n",
    "import pandas as pd"
   ]
  },
  {
   "cell_type": "code",
   "execution_count": null,
   "id": "lonely-regulation",
   "metadata": {},
   "outputs": [],
   "source": [
    "source_df = pd.read_csv(filepath_or_buffer='outputs/source_descriptors.csv', sep=',')\n",
    "source_df.head()"
   ]
  },
  {
   "cell_type": "code",
   "execution_count": null,
   "id": "2aa4a8ea",
   "metadata": {},
   "outputs": [],
   "source": [
    "source_df.info()"
   ]
  },
  {
   "attachments": {},
   "cell_type": "markdown",
   "id": "56d5d58a",
   "metadata": {},
   "source": [
    "## 1. Find and drop columns with a constant value"
   ]
  },
  {
   "cell_type": "code",
   "execution_count": null,
   "id": "87c57ca8",
   "metadata": {},
   "outputs": [],
   "source": [
    "# Columns with a constant value\n",
    "constant_columns = list(source_df.columns[source_df.nunique() <= 1])\n",
    "len(constant_columns)"
   ]
  },
  {
   "attachments": {},
   "cell_type": "markdown",
   "id": "ce7ccacb",
   "metadata": {},
   "source": [
    "Except 4 descriptors, constant columns are fragment (fr) counts. For example `fr_NH2` is \"Number of Primary amines\".\n",
    "\n",
    "http://rdkit.org/docs/source/rdkit.Chem.Fragments.html\n",
    "\n",
    "The 4 descriptors that are not fragment counts are\n",
    "\n",
    "```\n",
    "['NumRadicalElectrons',\n",
    " 'SMR_VSA8',\n",
    " 'SlogP_VSA9',\n",
    " 'NumSaturatedCarbocycles']\n",
    " ```"
   ]
  },
  {
   "cell_type": "code",
   "execution_count": null,
   "id": "a85ebc94",
   "metadata": {},
   "outputs": [],
   "source": [
    "source_df = source_df.drop(columns=constant_columns)\n",
    "source_df.info()"
   ]
  },
  {
   "cell_type": "code",
   "execution_count": 6,
   "id": "05282f36",
   "metadata": {},
   "outputs": [],
   "source": [
    "non_constant_columns = list(source_df.columns)"
   ]
  },
  {
   "cell_type": "code",
   "execution_count": 7,
   "id": "9e74acca",
   "metadata": {},
   "outputs": [],
   "source": [
    "import pickle\n",
    "with open('outputs/non_constant_columns.pkl', 'wb') as f:\n",
    "    pickle.dump(non_constant_columns, f)"
   ]
  },
  {
   "attachments": {},
   "cell_type": "markdown",
   "id": "90e074c6",
   "metadata": {},
   "source": [
    "## 2. Handling NaN values"
   ]
  },
  {
   "cell_type": "code",
   "execution_count": 8,
   "id": "1397933b",
   "metadata": {},
   "outputs": [],
   "source": [
    "# Interpreting inf as nan\n",
    "source_df = source_df.replace([np.inf, -np.inf], np.nan)"
   ]
  },
  {
   "cell_type": "code",
   "execution_count": null,
   "id": "b7cc4edc",
   "metadata": {},
   "outputs": [],
   "source": [
    "# Number of rows with NaN values\n",
    "source_df.isna().any(axis=1).sum()"
   ]
  },
  {
   "cell_type": "code",
   "execution_count": null,
   "id": "0ecf3c0e",
   "metadata": {},
   "outputs": [],
   "source": [
    "# Number of columns with NaN values\n",
    "source_df.isna().any(axis=0).sum()"
   ]
  },
  {
   "cell_type": "code",
   "execution_count": null,
   "id": "b7d4e986",
   "metadata": {},
   "outputs": [],
   "source": [
    "# The columns that contain NaN values\n",
    "nan_columns = list(source_df.columns[source_df.isnull().any(axis=0)])\n",
    "nan_columns"
   ]
  },
  {
   "attachments": {},
   "cell_type": "markdown",
   "id": "9a837b24",
   "metadata": {},
   "source": [
    "There are two groups: columns related to `PartialCharge` and `BCUT2D_x`.\n",
    "\n",
    "For BCUT2D here is the explanation\n",
    "\n",
    "You'll get NaN for any molecule which contains an atom that isn't parameterized for the Gasteiger charges. (e.g. [Na+])\n",
    "\n",
    "https://github.com/rdkit/rdkit/discussions/5824\n",
    "\n",
    "\n",
    "For Partial charge, I couldn't find much but there is an issue here:\n",
    "\n",
    "https://github.com/rdkit/rdkit/issues/5674\n"
   ]
  },
  {
   "cell_type": "code",
   "execution_count": null,
   "id": "5e2901c9",
   "metadata": {},
   "outputs": [],
   "source": [
    "source_df.dropna(axis='index').hist(column=nan_columns[0:4])"
   ]
  },
  {
   "cell_type": "code",
   "execution_count": null,
   "id": "f3cf6c0a",
   "metadata": {},
   "outputs": [],
   "source": [
    "source_df.dropna(axis='index').hist(column=nan_columns[4:8])"
   ]
  },
  {
   "cell_type": "code",
   "execution_count": null,
   "id": "1d1be29f",
   "metadata": {},
   "outputs": [],
   "source": [
    "source_df.dropna(axis='index').hist(column=nan_columns[8:])"
   ]
  },
  {
   "cell_type": "code",
   "execution_count": 15,
   "id": "752fdb91",
   "metadata": {},
   "outputs": [],
   "source": [
    "# Filling nan values with an arbitrary number\n",
    "# -5 is smaller than the minimum number\n",
    "source_df = source_df.fillna(-5)"
   ]
  },
  {
   "attachments": {},
   "cell_type": "markdown",
   "id": "b10881d8",
   "metadata": {},
   "source": [
    "## 3. Very large and small numbers"
   ]
  },
  {
   "cell_type": "code",
   "execution_count": null,
   "id": "50884dec",
   "metadata": {},
   "outputs": [],
   "source": [
    "source_df.columns[(source_df > 1e6).any()]"
   ]
  },
  {
   "cell_type": "code",
   "execution_count": null,
   "id": "bcc3e0cc",
   "metadata": {},
   "outputs": [],
   "source": [
    "source_df.columns[((source_df < 1e-6) & (source_df > 0)).any()]"
   ]
  },
  {
   "cell_type": "code",
   "execution_count": null,
   "id": "ab1ffd88",
   "metadata": {},
   "outputs": [],
   "source": [
    "np.max(source_df['Ipc'])"
   ]
  },
  {
   "cell_type": "code",
   "execution_count": null,
   "id": "3a1ae6c5",
   "metadata": {},
   "outputs": [],
   "source": [
    "# Natural log\n",
    "plt.hist(np.log(source_df['Ipc']))"
   ]
  },
  {
   "cell_type": "code",
   "execution_count": null,
   "id": "f0a9196e",
   "metadata": {},
   "outputs": [],
   "source": [
    "np.log(np.max(source_df['Ipc']))"
   ]
  },
  {
   "cell_type": "code",
   "execution_count": 21,
   "id": "87722501",
   "metadata": {},
   "outputs": [],
   "source": [
    "source_df['Ipc'] = np.log(source_df['Ipc'])"
   ]
  },
  {
   "attachments": {},
   "cell_type": "markdown",
   "id": "d59817b6",
   "metadata": {},
   "source": [
    "## 4. Optimizing memory usage"
   ]
  },
  {
   "cell_type": "code",
   "execution_count": null,
   "id": "3ba2af0f",
   "metadata": {},
   "outputs": [],
   "source": [
    "source_df.info()"
   ]
  },
  {
   "cell_type": "code",
   "execution_count": 23,
   "id": "2d28e4aa",
   "metadata": {},
   "outputs": [],
   "source": [
    "float64_cols = list(source_df.select_dtypes(include='float64'))\n",
    "source_df[float64_cols] = source_df[float64_cols].astype('float32')"
   ]
  },
  {
   "cell_type": "code",
   "execution_count": null,
   "id": "c3905d35",
   "metadata": {},
   "outputs": [],
   "source": [
    "source_df.info()"
   ]
  },
  {
   "cell_type": "code",
   "execution_count": 25,
   "id": "bd394006",
   "metadata": {},
   "outputs": [],
   "source": [
    "int64_cols = list(source_df.select_dtypes(include='int64'))"
   ]
  },
  {
   "cell_type": "code",
   "execution_count": null,
   "id": "fd327bd1",
   "metadata": {},
   "outputs": [],
   "source": [
    "source_df[int64_cols].min().min(), source_df[int64_cols].max().max()"
   ]
  },
  {
   "attachments": {},
   "cell_type": "markdown",
   "id": "1bfc1050",
   "metadata": {},
   "source": [
    "|Data type|Description|\n",
    "|----|----|\n",
    "|int8|Byte (-128 to 127)|\n",
    "|int16|Integer (-32768 to 32767)|\n",
    "|int32\t|Integer (-2147483648 to 2147483647)|\n",
    "|int64\t|Integer (-9223372036854775808 to 9223372036854775807)|\n",
    "|uint8\t|Unsigned integer (0 to 255)|\n",
    "|uint16\t|Unsigned integer (0 to 65535)|\n",
    "|uint32\t|Unsigned integer (0 to 4294967295)|\n",
    "|uint64\t|Unsigned integer (0 to 18446744073709551615)|"
   ]
  },
  {
   "cell_type": "code",
   "execution_count": 27,
   "id": "87d0b998",
   "metadata": {},
   "outputs": [],
   "source": [
    "source_df[int64_cols] = source_df[int64_cols].astype('int16')"
   ]
  },
  {
   "cell_type": "code",
   "execution_count": null,
   "id": "cb087311",
   "metadata": {},
   "outputs": [],
   "source": [
    "source_df.info()"
   ]
  },
  {
   "attachments": {},
   "cell_type": "markdown",
   "id": "5fde6566",
   "metadata": {},
   "source": [
    "## 5. Putting it together"
   ]
  },
  {
   "cell_type": "code",
   "execution_count": 29,
   "id": "processed-threat",
   "metadata": {},
   "outputs": [],
   "source": [
    "def descriptor_processor(df, non_constant_columns):\n",
    "    df = df[non_constant_columns]\n",
    "\n",
    "    df = df.replace([np.inf, -np.inf], np.nan)\n",
    "    df = df.fillna(-5)\n",
    "\n",
    "    df['Ipc'] = np.log(df['Ipc'])\n",
    "\n",
    "    float64_cols = list(df.select_dtypes(include='float64'))\n",
    "    df[float64_cols] = df[float64_cols].astype('float32')\n",
    "\n",
    "    int64_cols = list(df.select_dtypes(include='int64'))\n",
    "    df[int64_cols] = df[int64_cols].astype('int16')\n",
    "\n",
    "    return df"
   ]
  },
  {
   "cell_type": "code",
   "execution_count": null,
   "id": "aggregate-lighter",
   "metadata": {},
   "outputs": [],
   "source": [
    "source_df = pd.read_csv(filepath_or_buffer='outputs/source_descriptors.csv', sep=',')\n",
    "source_df.head()"
   ]
  },
  {
   "cell_type": "code",
   "execution_count": null,
   "id": "brown-picnic",
   "metadata": {},
   "outputs": [],
   "source": [
    "source_df.info()"
   ]
  },
  {
   "cell_type": "code",
   "execution_count": null,
   "id": "d5f28976",
   "metadata": {},
   "outputs": [],
   "source": [
    "source_df = descriptor_processor(source_df, non_constant_columns)\n",
    "source_df.head()"
   ]
  },
  {
   "cell_type": "code",
   "execution_count": null,
   "id": "30ecac6f",
   "metadata": {},
   "outputs": [],
   "source": [
    "source_df.info()"
   ]
  },
  {
   "cell_type": "code",
   "execution_count": 34,
   "id": "418b8306",
   "metadata": {},
   "outputs": [],
   "source": [
    "source_df.to_pickle('outputs/source_descriptors_processed.pkl')"
   ]
  },
  {
   "cell_type": "code",
   "execution_count": 35,
   "id": "9402d853",
   "metadata": {},
   "outputs": [],
   "source": [
    "del source_df"
   ]
  }
 ],
 "metadata": {
  "kernelspec": {
   "display_name": "Python 3",
   "language": "python",
   "name": "python3"
  },
  "language_info": {
   "codemirror_mode": {
    "name": "ipython",
    "version": 3
   },
   "file_extension": ".py",
   "mimetype": "text/x-python",
   "name": "python",
   "nbconvert_exporter": "python",
   "pygments_lexer": "ipython3",
   "version": "3.9.18"
  }
 },
 "nbformat": 4,
 "nbformat_minor": 5
}
