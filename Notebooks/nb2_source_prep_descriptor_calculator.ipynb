{
 "cells": [
  {
   "cell_type": "code",
   "execution_count": 1,
   "id": "introductory-sleep",
   "metadata": {},
   "outputs": [],
   "source": [
    "import pandas as pd\n",
    "import numpy as np\n",
    "\n",
    "from rdkit.ML.Descriptors import MoleculeDescriptors\n",
    "from rdkit.Chem import Descriptors, MolFromSmiles\n",
    "from rdkit import Chem\n",
    "\n",
    "import csv"
   ]
  },
  {
   "cell_type": "code",
   "execution_count": null,
   "id": "descending-clothing",
   "metadata": {},
   "outputs": [],
   "source": [
    "source_df = pd.read_csv(filepath_or_buffer='outputs/processed_source_dataset.csv', sep=',')\n",
    "source_df"
   ]
  },
  {
   "cell_type": "code",
   "execution_count": null,
   "id": "817c5516",
   "metadata": {},
   "outputs": [],
   "source": [
    "smiles_strings = list(source_df['Smiles'])\n",
    "del source_df\n",
    "len(smiles_strings)"
   ]
  },
  {
   "cell_type": "code",
   "execution_count": 4,
   "id": "38977c1c",
   "metadata": {},
   "outputs": [],
   "source": [
    "descriptor_names = [x[0] for x in Descriptors._descList]\n",
    "calc = MoleculeDescriptors.MolecularDescriptorCalculator(descriptor_names)"
   ]
  },
  {
   "cell_type": "code",
   "execution_count": null,
   "id": "2478e0cd",
   "metadata": {},
   "outputs": [],
   "source": [
    "# Define a function to batch process the rows\n",
    "# It took 7h 10min\n",
    "def batched_rows(smiles_strings, batch_size=1000):\n",
    "    batch = []\n",
    "    for smiles_string in smiles_strings:\n",
    "        m = Chem.MolFromSmiles(smiles_string)\n",
    "        features = calc.CalcDescriptors(m)\n",
    "        batch.append(features)\n",
    "        if len(batch) == batch_size:\n",
    "            yield batch\n",
    "            batch = []\n",
    "    if batch:\n",
    "        yield batch\n",
    "\n",
    "with open('outputs/source_descriptors.csv', 'w', newline='') as f:\n",
    "    writer = csv.writer(f)\n",
    "    writer.writerow(descriptor_names)\n",
    "    batch_counter = 0\n",
    "    for batch in batched_rows(smiles_strings):\n",
    "        writer.writerows(batch)\n",
    "        print(f'Batch No {batch_counter} written')\n",
    "        batch_counter += 1"
   ]
  },
  {
   "cell_type": "code",
   "execution_count": null,
   "id": "10a35a43",
   "metadata": {},
   "outputs": [],
   "source": []
  }
 ],
 "metadata": {
  "kernelspec": {
   "display_name": "Python 3 (ipykernel)",
   "language": "python",
   "name": "python3"
  },
  "language_info": {
   "codemirror_mode": {
    "name": "ipython",
    "version": 3
   },
   "file_extension": ".py",
   "mimetype": "text/x-python",
   "name": "python",
   "nbconvert_exporter": "python",
   "pygments_lexer": "ipython3",
   "version": "3.9.18"
  }
 },
 "nbformat": 4,
 "nbformat_minor": 5
}
