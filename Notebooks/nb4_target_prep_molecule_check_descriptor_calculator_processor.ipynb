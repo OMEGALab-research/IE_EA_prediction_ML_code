{
 "cells": [
  {
   "cell_type": "code",
   "execution_count": 1,
   "metadata": {},
   "outputs": [],
   "source": [
    "import pandas as pd\n",
    "import numpy as np\n",
    "\n",
    "from rdkit.ML.Descriptors import MoleculeDescriptors\n",
    "from rdkit.Chem import Descriptors, MolFromSmiles, MolToSmiles\n",
    "from rdkit import Chem\n",
    "\n",
    "import csv"
   ]
  },
  {
   "cell_type": "markdown",
   "metadata": {},
   "source": [
    "Previously the code was working with already calculated descriptors. But using different RDKit versions for calculating descriptors may result in different descriptors. Therefore, the code will take only the SMILES as input and calculate descriptors."
   ]
  },
  {
   "cell_type": "code",
   "execution_count": null,
   "metadata": {},
   "outputs": [],
   "source": [
    "target_df = pd.read_excel('target_data/HOMO LUMO database.xlsx')\n",
    "target_df"
   ]
  },
  {
   "cell_type": "code",
   "execution_count": 3,
   "metadata": {},
   "outputs": [],
   "source": [
    "# Convert energy levels from positive to negative\n",
    "target_df[['HOMO_DFT', 'LUMO_DFT', 'HOMO_UPS', 'LUMO_IPES']] = target_df[['HOMO_DFT', 'LUMO_DFT', 'HOMO_UPS', 'LUMO_IPES']] * (-1)"
   ]
  },
  {
   "cell_type": "code",
   "execution_count": null,
   "metadata": {},
   "outputs": [],
   "source": [
    "target_df"
   ]
  },
  {
   "cell_type": "code",
   "execution_count": null,
   "metadata": {},
   "outputs": [],
   "source": [
    "# Drop the molecules without a SMILES string\n",
    "target_df = target_df.dropna(subset=['SMILES'])\n",
    "target_df"
   ]
  },
  {
   "cell_type": "markdown",
   "metadata": {},
   "source": [
    "## 1. Check for valid and standard SMILES"
   ]
  },
  {
   "cell_type": "code",
   "execution_count": null,
   "metadata": {},
   "outputs": [],
   "source": [
    "smiles_strings = list(target_df['SMILES'])\n",
    "len(smiles_strings)"
   ]
  },
  {
   "cell_type": "code",
   "execution_count": 7,
   "metadata": {},
   "outputs": [],
   "source": [
    "from molvs import Standardizer\n",
    "s = Standardizer()\n",
    "\n",
    "def molecule_checker(smiles):\n",
    "    non_valid_smiles = []\n",
    "    non_standard_smiles = []\n",
    "    for i, smi in enumerate(smiles):\n",
    "        mol = MolFromSmiles(smi)\n",
    "        if mol is None:\n",
    "            non_valid_smiles.append(i)\n",
    "        else:\n",
    "            s_smiles = MolToSmiles(s.standardize(mol))\n",
    "            c_smiles = MolToSmiles(mol)\n",
    "            if s_smiles != c_smiles:\n",
    "                non_standard_smiles.append(i)\n",
    "\n",
    "    return non_valid_smiles, non_standard_smiles"
   ]
  },
  {
   "cell_type": "code",
   "execution_count": null,
   "metadata": {},
   "outputs": [],
   "source": [
    "non_valid_smiles, non_standard_smiles = molecule_checker(smiles_strings)"
   ]
  },
  {
   "cell_type": "code",
   "execution_count": null,
   "metadata": {},
   "outputs": [],
   "source": [
    "print(f'There are {len(non_valid_smiles)} non valid smiles.')\n",
    "print(f'There are {len(non_standard_smiles)} non standard smiles.')"
   ]
  },
  {
   "cell_type": "code",
   "execution_count": null,
   "metadata": {},
   "outputs": [],
   "source": [
    "target_df.iloc[non_valid_smiles]"
   ]
  },
  {
   "cell_type": "code",
   "execution_count": null,
   "metadata": {},
   "outputs": [],
   "source": [
    "target_df.iloc[non_standard_smiles]"
   ]
  },
  {
   "cell_type": "code",
   "execution_count": null,
   "metadata": {},
   "outputs": [],
   "source": [
    "rows_to_drop = target_df.iloc[non_valid_smiles].index\n",
    "target_df = target_df.drop(rows_to_drop)\n",
    "target_df"
   ]
  },
  {
   "cell_type": "code",
   "execution_count": null,
   "metadata": {},
   "outputs": [],
   "source": [
    "target_df = target_df.reset_index(drop=True)\n",
    "target_df"
   ]
  },
  {
   "cell_type": "markdown",
   "metadata": {},
   "source": [
    "## 2. Calculating descriptors"
   ]
  },
  {
   "cell_type": "code",
   "execution_count": null,
   "metadata": {},
   "outputs": [],
   "source": [
    "smiles_strings = list(target_df['SMILES'])\n",
    "len(smiles_strings)"
   ]
  },
  {
   "cell_type": "code",
   "execution_count": 15,
   "metadata": {},
   "outputs": [],
   "source": [
    "descriptor_names = [x[0] for x in Descriptors._descList]\n",
    "calc = MoleculeDescriptors.MolecularDescriptorCalculator(descriptor_names)"
   ]
  },
  {
   "cell_type": "code",
   "execution_count": 16,
   "metadata": {},
   "outputs": [],
   "source": [
    "all_descriptors = []\n",
    "for smiles_string in smiles_strings:\n",
    "    m = Chem.MolFromSmiles(smiles_string)\n",
    "    descriptors = calc.CalcDescriptors(m)\n",
    "    all_descriptors.append(descriptors)"
   ]
  },
  {
   "cell_type": "code",
   "execution_count": null,
   "metadata": {},
   "outputs": [],
   "source": [
    "descriptors_df = pd.DataFrame(all_descriptors, columns=descriptor_names)\n",
    "descriptors_df"
   ]
  },
  {
   "cell_type": "markdown",
   "metadata": {},
   "source": [
    "## 3. Process the descriptors"
   ]
  },
  {
   "cell_type": "code",
   "execution_count": 18,
   "metadata": {},
   "outputs": [],
   "source": [
    "def descriptor_processor(df, non_constant_columns):\n",
    "    df = df[non_constant_columns]\n",
    "\n",
    "    df = df.replace([np.inf, -np.inf], np.nan)\n",
    "    df = df.fillna(-5)\n",
    "\n",
    "    df['Ipc'] = np.log(df['Ipc'])\n",
    "\n",
    "    float64_cols = list(df.select_dtypes(include='float64'))\n",
    "    df[float64_cols] = df[float64_cols].astype('float32')\n",
    "\n",
    "    int64_cols = list(df.select_dtypes(include='int64'))\n",
    "    df[int64_cols] = df[int64_cols].astype('int16')\n",
    "\n",
    "    return df"
   ]
  },
  {
   "cell_type": "code",
   "execution_count": 19,
   "metadata": {},
   "outputs": [],
   "source": [
    "import pickle\n",
    "with open('outputs/non_constant_columns.pkl', 'rb') as f:\n",
    "    non_constant_columns = pickle.load(f)"
   ]
  },
  {
   "cell_type": "code",
   "execution_count": 20,
   "metadata": {},
   "outputs": [],
   "source": [
    "descriptors_df = descriptor_processor(descriptors_df, non_constant_columns)"
   ]
  },
  {
   "cell_type": "code",
   "execution_count": null,
   "metadata": {},
   "outputs": [],
   "source": [
    "processed_target_df = pd.concat((\n",
    "    target_df[['Type', 'Molecule', 'SMILES']],\n",
    "    descriptors_df,\n",
    "    target_df[['HOMO_DFT', 'LUMO_DFT', 'HOMO_UPS', 'LUMO_IPES']]), axis=1)\n",
    "processed_target_df"
   ]
  },
  {
   "cell_type": "code",
   "execution_count": null,
   "metadata": {},
   "outputs": [],
   "source": [
    "processed_target_df.info()"
   ]
  },
  {
   "cell_type": "code",
   "execution_count": 23,
   "metadata": {},
   "outputs": [],
   "source": [
    "processed_target_df.to_pickle('outputs/target_descriptors_calculated_n_processed.pkl')"
   ]
  }
 ],
 "metadata": {
  "kernelspec": {
   "display_name": "omega_lab_final_env",
   "language": "python",
   "name": "python3"
  },
  "language_info": {
   "codemirror_mode": {
    "name": "ipython",
    "version": 3
   },
   "file_extension": ".py",
   "mimetype": "text/x-python",
   "name": "python",
   "nbconvert_exporter": "python",
   "pygments_lexer": "ipython3",
   "version": "3.9.18"
  }
 },
 "nbformat": 4,
 "nbformat_minor": 2
}
