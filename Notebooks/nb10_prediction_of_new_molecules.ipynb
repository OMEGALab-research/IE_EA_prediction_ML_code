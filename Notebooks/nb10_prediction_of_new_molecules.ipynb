{
 "cells": [
  {
   "cell_type": "code",
   "execution_count": 7,
   "metadata": {},
   "outputs": [],
   "source": [
    "import pandas as pd\n",
    "import numpy as np\n",
    "import matplotlib.pyplot as plt\n",
    "from rdkit.Chem import MolFromSmiles, MolToSmiles, Descriptors\n",
    "from rdkit.ML.Descriptors import MoleculeDescriptors\n",
    "from rdkit.Chem import Descriptors, MolFromSmiles\n",
    "from rdkit import Chem\n",
    "import pickle\n",
    "with open('outputs/non_constant_columns.pkl', 'rb') as f:\n",
    "    non_constant_columns = pickle.load(f)\n",
    "from joblib import dump, load\n",
    "base_model_homo = load('outputs/models/homo_dft.joblib')\n",
    "base_model_lumo = load('outputs/models/lumo_dft.joblib')\n",
    "homo_ups_predictor = load('outputs/models/homo_ups_predictor.joblib')\n",
    "lumo_ipes_predictor = load('outputs/models/lumo_ipes_predictor.joblib')"
   ]
  },
  {
   "cell_type": "code",
   "execution_count": 8,
   "metadata": {},
   "outputs": [],
   "source": [
    "def predictions(smiles_string):\n",
    "\n",
    "    # Check smiles string and convert SMILES to canonical\n",
    "    mol = MolFromSmiles(smiles_string)\n",
    "    if mol is None:\n",
    "        print('Non valid SMILES string')\n",
    "        return\n",
    "    else:\n",
    "        s_smiles = MolToSmiles(MolFromSmiles(smiles_string))\n",
    "    \n",
    "    # Calculate all descriptors\n",
    "    descriptor_names = [x[0] for x in Descriptors._descList]\n",
    "    calc = MoleculeDescriptors.MolecularDescriptorCalculator(descriptor_names)\n",
    "\n",
    "    # Process and standardize all descriptors\n",
    "    m = Chem.MolFromSmiles(s_smiles)\n",
    "    features = calc.CalcDescriptors(m)\n",
    "    df = pd.DataFrame([features],columns=descriptor_names)\n",
    "    df = df[non_constant_columns]\n",
    "    df = df.replace([np.inf, -np.inf], np.nan)\n",
    "    df = df.fillna(-5)\n",
    "    df['Ipc'] = np.log(df['Ipc'])\n",
    "    float64_cols = list(df.select_dtypes(include='float64'))\n",
    "    df[float64_cols] = df[float64_cols].astype('float32')\n",
    "    int64_cols = list(df.select_dtypes(include='int64'))\n",
    "    df[int64_cols] = df[int64_cols].astype('int16')\n",
    "\n",
    "    # Prediction of HOMO and LUMO from descriptors\n",
    "    homo_dft_predictions = base_model_homo.predict(df)\n",
    "    lumo_dft_predictions = base_model_lumo.predict(df)\n",
    "\n",
    "    # Gather features for prediction of IE and EA \n",
    "    X_selected_homo = df[list(homo_ups_predictor.feature_names_in_)[1:]]\n",
    "    X_selected_lumo = df[list(lumo_ipes_predictor.feature_names_in_)[1:]]\n",
    "    X_selected_homo.insert(0, 'DFT_pred', homo_dft_predictions)\n",
    "    X_selected_lumo.insert(0, 'DFT_pred', lumo_dft_predictions)\n",
    "\n",
    "    # Prediction of IE and EA\n",
    "    preds_homo = homo_ups_predictor.predict(X_selected_homo)\n",
    "    preds_lumo = lumo_ipes_predictor.predict(X_selected_lumo)\n",
    "\n",
    "    df_result = pd.DataFrame([[s_smiles, homo_dft_predictions[0], lumo_dft_predictions[0], preds_homo[0], preds_lumo[0]]], columns=['SMILES string', 'HOMO predicted (eV)', 'LUMO predicted (eV)', 'IE predicted (eV)', 'EA predicted (eV)'])\n",
    "    return df_result\n"
   ]
  },
  {
   "cell_type": "markdown",
   "metadata": {},
   "source": [
    "In the cell below, just copy paste the SMILES string of your molecule and run the cell"
   ]
  },
  {
   "cell_type": "code",
   "execution_count": 9,
   "metadata": {},
   "outputs": [
    {
     "data": {
      "text/html": [
       "<div>\n",
       "<style scoped>\n",
       "    .dataframe tbody tr th:only-of-type {\n",
       "        vertical-align: middle;\n",
       "    }\n",
       "\n",
       "    .dataframe tbody tr th {\n",
       "        vertical-align: top;\n",
       "    }\n",
       "\n",
       "    .dataframe thead th {\n",
       "        text-align: right;\n",
       "    }\n",
       "</style>\n",
       "<table border=\"1\" class=\"dataframe\">\n",
       "  <thead>\n",
       "    <tr style=\"text-align: right;\">\n",
       "      <th></th>\n",
       "      <th>SMILES string</th>\n",
       "      <th>HOMO predicted (eV)</th>\n",
       "      <th>LUMO predicted (eV)</th>\n",
       "      <th>IE predicted (eV)</th>\n",
       "      <th>EA predicted (eV)</th>\n",
       "    </tr>\n",
       "  </thead>\n",
       "  <tbody>\n",
       "    <tr>\n",
       "      <th>0</th>\n",
       "      <td>CCCCCCC(CCCC)Cc1c(/C=C2\\C(=O)c3cc(F)c(F)cc3C2=...</td>\n",
       "      <td>-5.586753</td>\n",
       "      <td>-3.572527</td>\n",
       "      <td>-5.555468</td>\n",
       "      <td>-4.001254</td>\n",
       "    </tr>\n",
       "  </tbody>\n",
       "</table>\n",
       "</div>"
      ],
      "text/plain": [
       "                                       SMILES string  HOMO predicted (eV)   \n",
       "0  CCCCCCC(CCCC)Cc1c(/C=C2\\C(=O)c3cc(F)c(F)cc3C2=...            -5.586753  \\\n",
       "\n",
       "   LUMO predicted (eV)  IE predicted (eV)  EA predicted (eV)  \n",
       "0            -3.572527          -5.555468          -4.001254  "
      ]
     },
     "execution_count": 9,
     "metadata": {},
     "output_type": "execute_result"
    }
   ],
   "source": [
    "new_molecule_smile = 'O=C(C(C=C(F)C(F)=C1)=C1C/2=C(C#N)\\C#N)C2=C/C3=C(CC(CCCCCC)CCCC)C(S4)=C(S3)C5=C4C6=C(N5CC(CC)CCCC)C7=C(C(SC8=C9SC(/C=C%10/C(C(C=C(F)C(F)=C%11)=C%11C%10=O)=C(C#N)/C#N)=C8CC(CCCC)CCCCCC)=C9N7CC(CC)CCCC)C%12=NSN=C6%12'\n",
    "predictions(new_molecule_smile)"
   ]
  },
  {
   "cell_type": "code",
   "execution_count": null,
   "metadata": {},
   "outputs": [],
   "source": []
  }
 ],
 "metadata": {
  "kernelspec": {
   "display_name": "ML_paper",
   "language": "python",
   "name": "python3"
  },
  "language_info": {
   "codemirror_mode": {
    "name": "ipython",
    "version": 3
   },
   "file_extension": ".py",
   "mimetype": "text/x-python",
   "name": "python",
   "nbconvert_exporter": "python",
   "pygments_lexer": "ipython3",
   "version": "3.9.18"
  },
  "orig_nbformat": 4
 },
 "nbformat": 4,
 "nbformat_minor": 2
}
