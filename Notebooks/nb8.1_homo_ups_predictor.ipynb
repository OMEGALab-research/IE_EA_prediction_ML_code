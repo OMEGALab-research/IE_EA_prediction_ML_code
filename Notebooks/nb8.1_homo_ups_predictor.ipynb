{
 "cells": [
  {
   "cell_type": "code",
   "execution_count": 1,
   "metadata": {},
   "outputs": [],
   "source": [
    "import pandas as pd\n",
    "import numpy as np\n",
    "import matplotlib.pyplot as plt"
   ]
  },
  {
   "cell_type": "code",
   "execution_count": null,
   "metadata": {},
   "outputs": [],
   "source": [
    "import csv\n",
    "\n",
    "# Open the CSV file for reading\n",
    "with open('outputs/homo_optimum_features_and_trials.csv', 'r', newline='') as file:\n",
    "    reader = csv.reader(file)\n",
    "\n",
    "    # Read the first row from the CSV file\n",
    "    row = next(reader)\n",
    "\n",
    "    # Assign the values to a and b\n",
    "    optimum_number_of_features, optimum_number_of_trials = int(row[0]), int(row[1])\n",
    "\n",
    "# Now a and b contain the values from the CSV file\n",
    "print(f\"Number of features: {optimum_number_of_features}, Number of trials: {optimum_number_of_trials}\")\n"
   ]
  },
  {
   "cell_type": "markdown",
   "metadata": {},
   "source": [
    "## Target dataset prep"
   ]
  },
  {
   "cell_type": "code",
   "execution_count": 3,
   "metadata": {},
   "outputs": [],
   "source": [
    "import pickle\n",
    "with open('outputs/non_constant_columns.pkl', 'rb') as f:\n",
    "    non_constant_columns = pickle.load(f)"
   ]
  },
  {
   "cell_type": "code",
   "execution_count": null,
   "metadata": {},
   "outputs": [],
   "source": [
    "target_df = pd.read_pickle('outputs/target_descriptors_calculated_n_processed.pkl')\n",
    "target_df.head()"
   ]
  },
  {
   "cell_type": "code",
   "execution_count": null,
   "metadata": {},
   "outputs": [],
   "source": [
    "target_df.info()"
   ]
  },
  {
   "cell_type": "code",
   "execution_count": 6,
   "metadata": {},
   "outputs": [],
   "source": [
    "# Only use the molecules with a HOMO_UPS value\n",
    "target_df = target_df[target_df['HOMO_UPS'].notna()]"
   ]
  },
  {
   "cell_type": "code",
   "execution_count": null,
   "metadata": {},
   "outputs": [],
   "source": [
    "from sklearn.utils import shuffle\n",
    "target_df  = shuffle(target_df, random_state=0)\n",
    "target_df.head()"
   ]
  },
  {
   "cell_type": "code",
   "execution_count": 8,
   "metadata": {},
   "outputs": [],
   "source": [
    "X = target_df[target_df['Type'] != 'External Validation'][non_constant_columns]\n",
    "y = target_df[target_df['Type'] != 'External Validation']['HOMO_UPS']"
   ]
  },
  {
   "cell_type": "code",
   "execution_count": null,
   "metadata": {},
   "outputs": [],
   "source": [
    "X.shape, y.shape"
   ]
  },
  {
   "cell_type": "code",
   "execution_count": 10,
   "metadata": {},
   "outputs": [],
   "source": [
    "from sklearn.model_selection import KFold\n",
    "from sklearn.metrics import mean_absolute_error\n",
    "from sklearn.preprocessing import StandardScaler\n",
    "\n",
    "from sklearn.feature_selection import RFE\n",
    "from sklearn.ensemble import RandomForestRegressor"
   ]
  },
  {
   "cell_type": "code",
   "execution_count": 11,
   "metadata": {},
   "outputs": [],
   "source": [
    "rf = RandomForestRegressor(random_state=0)\n",
    "selector = RFE(rf, n_features_to_select=optimum_number_of_features-1, step=1)\n",
    "selector = selector.fit(X, y)"
   ]
  },
  {
   "cell_type": "code",
   "execution_count": null,
   "metadata": {},
   "outputs": [],
   "source": [
    "X_selected = selector.transform(X)\n",
    "X_selected.shape"
   ]
  },
  {
   "cell_type": "code",
   "execution_count": null,
   "metadata": {},
   "outputs": [],
   "source": [
    "selected_features = X.columns[selector.support_]\n",
    "selected_features"
   ]
  },
  {
   "cell_type": "code",
   "execution_count": null,
   "metadata": {},
   "outputs": [],
   "source": [
    "X_selected = X[X.columns[selector.support_]]\n",
    "X_selected"
   ]
  },
  {
   "cell_type": "markdown",
   "metadata": {},
   "source": [
    "## Combine selected features with DFT prediction"
   ]
  },
  {
   "cell_type": "code",
   "execution_count": 15,
   "metadata": {},
   "outputs": [],
   "source": [
    "from joblib import dump, load\n",
    "base_model = load('outputs/models/homo_dft.joblib')"
   ]
  },
  {
   "cell_type": "code",
   "execution_count": 16,
   "metadata": {},
   "outputs": [],
   "source": [
    "base_model_preds = base_model.predict(X)\n",
    "base_model_preds = base_model_preds.reshape(-1, 1)"
   ]
  },
  {
   "cell_type": "code",
   "execution_count": 17,
   "metadata": {},
   "outputs": [],
   "source": [
    "X_selected.insert(0, 'DFT_pred', base_model_preds)"
   ]
  },
  {
   "cell_type": "code",
   "execution_count": null,
   "metadata": {},
   "outputs": [],
   "source": [
    "selected_features = list(X_selected.columns)\n",
    "selected_features"
   ]
  },
  {
   "cell_type": "code",
   "execution_count": null,
   "metadata": {},
   "outputs": [],
   "source": [
    "type(X_selected), type(y)"
   ]
  },
  {
   "cell_type": "code",
   "execution_count": null,
   "metadata": {},
   "outputs": [],
   "source": [
    "from sklearn.model_selection import RepeatedKFold\n",
    "from sklearn.model_selection import cross_validate\n",
    "cv = RepeatedKFold(n_splits=10, n_repeats=5, random_state=0)\n",
    "rf = RandomForestRegressor(random_state=0)\n",
    "cv_results = cross_validate(rf, X_selected, y, scoring='neg_mean_absolute_error', return_estimator=True, cv=cv)\n",
    "np.mean(cv_results['test_score'])*-1"
   ]
  },
  {
   "cell_type": "code",
   "execution_count": null,
   "metadata": {},
   "outputs": [],
   "source": [
    "import optuna\n",
    "from sklearn.ensemble import RandomForestRegressor\n",
    "from sklearn.model_selection import RepeatedKFold\n",
    "\n",
    "cv = RepeatedKFold(n_splits=10, n_repeats=5, random_state=0)\n",
    "\n",
    "def objective(trial):\n",
    "    params = {\n",
    "        'n_estimators': trial.suggest_int('n_estimators', 10, 700),\n",
    "        'max_depth': trial.suggest_int('max_depth', 2, 25),\n",
    "        'min_samples_split': trial.suggest_int('min_samples_split', 2, 10),\n",
    "        'min_samples_leaf': trial.suggest_int('min_samples_leaf', 1, 5),\n",
    "        'max_features': trial.suggest_float('max_features', 0.3, 1.0)\n",
    "        }\n",
    "\n",
    "    rf = RandomForestRegressor(random_state=0, **params)\n",
    "    cv_results = cross_validate(\n",
    "        rf,\n",
    "        X_selected, y,\n",
    "        scoring='neg_mean_absolute_error',\n",
    "        return_estimator=True,\n",
    "        cv=cv,\n",
    "        n_jobs=-1)\n",
    "    return np.mean(cv_results['test_score'])*-1"
   ]
  },
  {
   "cell_type": "code",
   "execution_count": null,
   "metadata": {},
   "outputs": [],
   "source": [
    "study = optuna.create_study(direction='minimize', sampler=optuna.samplers.TPESampler(seed=0))\n",
    "study.optimize(objective, n_trials=optimum_number_of_trials)"
   ]
  },
  {
   "cell_type": "code",
   "execution_count": null,
   "metadata": {},
   "outputs": [],
   "source": [
    "study.best_params"
   ]
  },
  {
   "cell_type": "code",
   "execution_count": null,
   "metadata": {},
   "outputs": [],
   "source": [
    "study.best_value"
   ]
  },
  {
   "cell_type": "code",
   "execution_count": null,
   "metadata": {},
   "outputs": [],
   "source": [
    "cv = RepeatedKFold(n_splits=10, n_repeats=5, random_state=0)\n",
    "rf = RandomForestRegressor(random_state=0, **study.best_params)\n",
    "cv_results = cross_validate(rf, X_selected, y, scoring='neg_mean_absolute_error', return_estimator=True, cv=cv)\n",
    "np.mean(cv_results['test_score'])*-1"
   ]
  },
  {
   "cell_type": "code",
   "execution_count": 26,
   "metadata": {},
   "outputs": [],
   "source": [
    "from sklearn.model_selection import cross_val_predict, KFold\n",
    "from sklearn.ensemble import RandomForestRegressor\n",
    "errors = []\n",
    "for random_state in range(5):\n",
    "    cv = KFold(n_splits=10, shuffle=True, random_state=random_state)\n",
    "    preds = cross_val_predict(rf, X_selected, y, cv=cv)\n",
    "    errors.append(np.abs(preds-y))"
   ]
  },
  {
   "cell_type": "code",
   "execution_count": 27,
   "metadata": {},
   "outputs": [],
   "source": [
    "errors_per_molecule = np.mean(np.array(errors), axis=0)"
   ]
  },
  {
   "cell_type": "code",
   "execution_count": null,
   "metadata": {},
   "outputs": [],
   "source": [
    "result = target_df[['Type', 'Molecule', 'HOMO_UPS']]\n",
    "result = result[result['Type'] != 'External Validation']\n",
    "result['Error'] = errors_per_molecule\n",
    "result.sort_values(by='Error')"
   ]
  },
  {
   "cell_type": "code",
   "execution_count": null,
   "metadata": {},
   "outputs": [],
   "source": [
    "np.mean(result['Error'][result['Type'] == 'Target Dataset'])"
   ]
  },
  {
   "cell_type": "code",
   "execution_count": null,
   "metadata": {},
   "outputs": [],
   "source": [
    "np.mean(result['Error'][result['Type'] == 'Online Dataset'])"
   ]
  },
  {
   "cell_type": "markdown",
   "metadata": {},
   "source": [
    "## Final model"
   ]
  },
  {
   "cell_type": "code",
   "execution_count": null,
   "metadata": {},
   "outputs": [],
   "source": [
    "homo_ups_predictor = RandomForestRegressor(random_state=0, **study.best_params)\n",
    "homo_ups_predictor.fit(X_selected, y)"
   ]
  },
  {
   "cell_type": "code",
   "execution_count": null,
   "metadata": {},
   "outputs": [],
   "source": [
    "from joblib import dump, load\n",
    "dump(homo_ups_predictor, 'outputs/models/homo_ups_predictor.joblib')"
   ]
  },
  {
   "cell_type": "code",
   "execution_count": null,
   "metadata": {},
   "outputs": [],
   "source": [
    "# Feature Importance\n",
    "df = pd.DataFrame({\n",
    "    \"Feature Name\": homo_ups_predictor.feature_names_in_,\n",
    "    \"Feature Importance\": homo_ups_predictor.feature_importances_\n",
    "})\n",
    "\n",
    "# Sort the DataFrame by 'Feature Importance' in descending order\n",
    "df_sorted = df.sort_values(by=\"Feature Importance\", ascending=False)\n",
    "\n",
    "# Display the sorted DataFrame\n",
    "df_sorted"
   ]
  }
 ],
 "metadata": {
  "kernelspec": {
   "display_name": "ml",
   "language": "python",
   "name": "python3"
  },
  "language_info": {
   "codemirror_mode": {
    "name": "ipython",
    "version": 3
   },
   "file_extension": ".py",
   "mimetype": "text/x-python",
   "name": "python",
   "nbconvert_exporter": "python",
   "pygments_lexer": "ipython3",
   "version": "3.9.18"
  },
  "orig_nbformat": 4
 },
 "nbformat": 4,
 "nbformat_minor": 2
}
