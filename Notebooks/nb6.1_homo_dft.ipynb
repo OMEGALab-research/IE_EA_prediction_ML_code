{
 "cells": [
  {
   "cell_type": "code",
   "execution_count": 1,
   "metadata": {},
   "outputs": [],
   "source": [
    "import numpy as np\n",
    "import pandas as pd\n",
    "import matplotlib.pyplot as plt"
   ]
  },
  {
   "cell_type": "code",
   "execution_count": 2,
   "metadata": {},
   "outputs": [],
   "source": [
    "import pickle\n",
    "with open('outputs/non_constant_columns.pkl', 'rb') as f:\n",
    "    non_constant_columns = pickle.load(f)"
   ]
  },
  {
   "cell_type": "code",
   "execution_count": null,
   "metadata": {},
   "outputs": [],
   "source": [
    "source_energy_levels_df = pd.read_csv('outputs/processed_source_dataset.csv')\n",
    "source_energy_levels_df.head()"
   ]
  },
  {
   "cell_type": "code",
   "execution_count": null,
   "metadata": {},
   "outputs": [],
   "source": [
    "source_df = pd.read_pickle('outputs/source_descriptors_processed.pkl')\n",
    "source_df.head()"
   ]
  },
  {
   "cell_type": "code",
   "execution_count": null,
   "metadata": {},
   "outputs": [],
   "source": [
    "source_df = pd.concat((source_df, source_energy_levels_df[['HOMO_DFT', 'LUMO_DFT']]), axis=1)\n",
    "del source_energy_levels_df\n",
    "source_df.head()"
   ]
  },
  {
   "cell_type": "code",
   "execution_count": null,
   "metadata": {},
   "outputs": [],
   "source": [
    "target_df = pd.read_pickle('outputs/target_descriptors_calculated_n_processed.pkl')\n",
    "target_df.head()"
   ]
  },
  {
   "cell_type": "code",
   "execution_count": 7,
   "metadata": {},
   "outputs": [],
   "source": [
    "# Only use the molecules with a HOMO_DFT value\n",
    "target_df = target_df[target_df['HOMO_DFT'].notna()]"
   ]
  },
  {
   "cell_type": "code",
   "execution_count": null,
   "metadata": {},
   "outputs": [],
   "source": [
    "X_target = target_df[non_constant_columns]\n",
    "y_target = target_df['HOMO_DFT']\n",
    "X_target.shape, y_target.shape"
   ]
  },
  {
   "cell_type": "code",
   "execution_count": null,
   "metadata": {},
   "outputs": [],
   "source": [
    "X_source1 = source_df[non_constant_columns].iloc[:233]\n",
    "y_source1 = source_df['HOMO_DFT'].iloc[:233]\n",
    "X_source1.shape, y_source1.shape"
   ]
  },
  {
   "cell_type": "code",
   "execution_count": null,
   "metadata": {},
   "outputs": [],
   "source": [
    "X_source2 = source_df[non_constant_columns].iloc[233:]\n",
    "y_source2 = source_df['HOMO_DFT'].iloc[233:]\n",
    "X_source2.shape, y_source2.shape"
   ]
  },
  {
   "cell_type": "code",
   "execution_count": 11,
   "metadata": {},
   "outputs": [],
   "source": [
    "X = pd.concat((X_target, X_source1, X_source2), axis=0)\n",
    "y = pd.concat((y_target, y_source1, y_source2), axis=0)"
   ]
  },
  {
   "cell_type": "code",
   "execution_count": null,
   "metadata": {},
   "outputs": [],
   "source": [
    "target_weight = 100000\n",
    "source1_weight = 1000\n",
    "source2_weight = 1\n",
    "\n",
    "sample_weights = np.concatenate([np.full(X_target.shape[0], target_weight),\n",
    "                                 np.full(X_source1.shape[0], source1_weight),\n",
    "                                 np.full(X_source2.shape[0], source2_weight)])\n",
    "\n",
    "sample_weights.shape"
   ]
  },
  {
   "cell_type": "code",
   "execution_count": null,
   "metadata": {},
   "outputs": [],
   "source": [
    "from sklearn.ensemble import HistGradientBoostingRegressor\n",
    "model = HistGradientBoostingRegressor(random_state=0)\n",
    "model.fit(X, y, sample_weight=sample_weights)"
   ]
  },
  {
   "cell_type": "code",
   "execution_count": null,
   "metadata": {},
   "outputs": [],
   "source": [
    "from sklearn.metrics import mean_absolute_error\n",
    "preds = model.predict(X_target)\n",
    "mean_absolute_error(preds, y_target)"
   ]
  },
  {
   "cell_type": "code",
   "execution_count": null,
   "metadata": {},
   "outputs": [],
   "source": [
    "preds = model.predict(X_source1)\n",
    "mean_absolute_error(preds, y_source1)"
   ]
  },
  {
   "cell_type": "code",
   "execution_count": null,
   "metadata": {},
   "outputs": [],
   "source": [
    "preds = model.predict(X_source2)\n",
    "mean_absolute_error(preds, y_source2)"
   ]
  },
  {
   "cell_type": "code",
   "execution_count": null,
   "metadata": {},
   "outputs": [],
   "source": [
    "from joblib import dump, load\n",
    "dump(model, 'outputs/models/homo_dft.joblib')"
   ]
  }
 ],
 "metadata": {
  "kernelspec": {
   "display_name": "ml",
   "language": "python",
   "name": "python3"
  },
  "language_info": {
   "codemirror_mode": {
    "name": "ipython",
    "version": 3
   },
   "file_extension": ".py",
   "mimetype": "text/x-python",
   "name": "python",
   "nbconvert_exporter": "python",
   "pygments_lexer": "ipython3",
   "version": "3.9.18"
  },
  "orig_nbformat": 4
 },
 "nbformat": 4,
 "nbformat_minor": 2
}
